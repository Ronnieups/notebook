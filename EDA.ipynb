{
 "cells": [
  {
   "cell_type": "code",
   "execution_count": 2,
   "id": "97bf8153",
   "metadata": {},
   "outputs": [],
   "source": [
    "import pandas as pd\n",
    "import numpy as np\n",
    "import seaborn as sns\n",
    "import matplotlib.pyplot as plt\n",
    "from pandas_profiling import ProfileReport\n",
    "from scipy import stats\n",
    "from scipy.stats import pearsonr\n",
    "from timeit import default_timer\n",
    "from sklearn.model_selection import train_test_split"
   ]
  },
  {
   "cell_type": "code",
   "execution_count": 3,
   "id": "6cd4e81f",
   "metadata": {},
   "outputs": [
    {
     "data": {
      "text/html": [
       "<div>\n",
       "<style scoped>\n",
       "    .dataframe tbody tr th:only-of-type {\n",
       "        vertical-align: middle;\n",
       "    }\n",
       "\n",
       "    .dataframe tbody tr th {\n",
       "        vertical-align: top;\n",
       "    }\n",
       "\n",
       "    .dataframe thead th {\n",
       "        text-align: right;\n",
       "    }\n",
       "</style>\n",
       "<table border=\"1\" class=\"dataframe\">\n",
       "  <thead>\n",
       "    <tr style=\"text-align: right;\">\n",
       "      <th></th>\n",
       "      <th>userId</th>\n",
       "      <th>movieId</th>\n",
       "      <th>tag</th>\n",
       "      <th>timestamp</th>\n",
       "    </tr>\n",
       "  </thead>\n",
       "  <tbody>\n",
       "    <tr>\n",
       "      <th>0</th>\n",
       "      <td>18</td>\n",
       "      <td>4141</td>\n",
       "      <td>Mark Waters</td>\n",
       "      <td>2009-04-24 18:19:40</td>\n",
       "    </tr>\n",
       "    <tr>\n",
       "      <th>1</th>\n",
       "      <td>65</td>\n",
       "      <td>208</td>\n",
       "      <td>dark hero</td>\n",
       "      <td>2013-05-10 01:41:18</td>\n",
       "    </tr>\n",
       "    <tr>\n",
       "      <th>2</th>\n",
       "      <td>65</td>\n",
       "      <td>353</td>\n",
       "      <td>dark hero</td>\n",
       "      <td>2013-05-10 01:41:19</td>\n",
       "    </tr>\n",
       "    <tr>\n",
       "      <th>3</th>\n",
       "      <td>65</td>\n",
       "      <td>521</td>\n",
       "      <td>noir thriller</td>\n",
       "      <td>2013-05-10 01:39:43</td>\n",
       "    </tr>\n",
       "    <tr>\n",
       "      <th>4</th>\n",
       "      <td>65</td>\n",
       "      <td>592</td>\n",
       "      <td>dark hero</td>\n",
       "      <td>2013-05-10 01:41:18</td>\n",
       "    </tr>\n",
       "    <tr>\n",
       "      <th>5</th>\n",
       "      <td>65</td>\n",
       "      <td>668</td>\n",
       "      <td>bollywood</td>\n",
       "      <td>2013-05-10 01:37:56</td>\n",
       "    </tr>\n",
       "    <tr>\n",
       "      <th>6</th>\n",
       "      <td>65</td>\n",
       "      <td>898</td>\n",
       "      <td>screwball comedy</td>\n",
       "      <td>2013-05-10 01:42:40</td>\n",
       "    </tr>\n",
       "    <tr>\n",
       "      <th>7</th>\n",
       "      <td>65</td>\n",
       "      <td>1248</td>\n",
       "      <td>noir thriller</td>\n",
       "      <td>2013-05-10 01:39:43</td>\n",
       "    </tr>\n",
       "    <tr>\n",
       "      <th>8</th>\n",
       "      <td>65</td>\n",
       "      <td>1391</td>\n",
       "      <td>mars</td>\n",
       "      <td>2013-05-10 01:40:55</td>\n",
       "    </tr>\n",
       "    <tr>\n",
       "      <th>9</th>\n",
       "      <td>65</td>\n",
       "      <td>1617</td>\n",
       "      <td>neo-noir</td>\n",
       "      <td>2013-05-10 01:43:37</td>\n",
       "    </tr>\n",
       "    <tr>\n",
       "      <th>10</th>\n",
       "      <td>65</td>\n",
       "      <td>1694</td>\n",
       "      <td>jesus</td>\n",
       "      <td>2013-05-10 01:38:45</td>\n",
       "    </tr>\n",
       "    <tr>\n",
       "      <th>11</th>\n",
       "      <td>65</td>\n",
       "      <td>1783</td>\n",
       "      <td>noir thriller</td>\n",
       "      <td>2013-05-10 01:39:43</td>\n",
       "    </tr>\n",
       "    <tr>\n",
       "      <th>12</th>\n",
       "      <td>65</td>\n",
       "      <td>2022</td>\n",
       "      <td>jesus</td>\n",
       "      <td>2013-05-10 01:38:45</td>\n",
       "    </tr>\n",
       "    <tr>\n",
       "      <th>13</th>\n",
       "      <td>65</td>\n",
       "      <td>2193</td>\n",
       "      <td>dragon</td>\n",
       "      <td>2013-05-10 02:01:54</td>\n",
       "    </tr>\n",
       "    <tr>\n",
       "      <th>14</th>\n",
       "      <td>65</td>\n",
       "      <td>2353</td>\n",
       "      <td>conspiracy theory</td>\n",
       "      <td>2013-05-10 02:01:06</td>\n",
       "    </tr>\n",
       "    <tr>\n",
       "      <th>15</th>\n",
       "      <td>65</td>\n",
       "      <td>2662</td>\n",
       "      <td>mars</td>\n",
       "      <td>2013-05-10 01:40:55</td>\n",
       "    </tr>\n",
       "    <tr>\n",
       "      <th>16</th>\n",
       "      <td>65</td>\n",
       "      <td>2726</td>\n",
       "      <td>noir thriller</td>\n",
       "      <td>2013-05-10 01:39:43</td>\n",
       "    </tr>\n",
       "    <tr>\n",
       "      <th>17</th>\n",
       "      <td>65</td>\n",
       "      <td>2840</td>\n",
       "      <td>jesus</td>\n",
       "      <td>2013-05-10 01:38:45</td>\n",
       "    </tr>\n",
       "    <tr>\n",
       "      <th>18</th>\n",
       "      <td>65</td>\n",
       "      <td>3052</td>\n",
       "      <td>jesus</td>\n",
       "      <td>2013-05-10 01:38:46</td>\n",
       "    </tr>\n",
       "    <tr>\n",
       "      <th>19</th>\n",
       "      <td>65</td>\n",
       "      <td>5135</td>\n",
       "      <td>bollywood</td>\n",
       "      <td>2013-05-10 01:37:56</td>\n",
       "    </tr>\n",
       "  </tbody>\n",
       "</table>\n",
       "</div>"
      ],
      "text/plain": [
       "    userId  movieId                tag            timestamp\n",
       "0       18     4141        Mark Waters  2009-04-24 18:19:40\n",
       "1       65      208          dark hero  2013-05-10 01:41:18\n",
       "2       65      353          dark hero  2013-05-10 01:41:19\n",
       "3       65      521      noir thriller  2013-05-10 01:39:43\n",
       "4       65      592          dark hero  2013-05-10 01:41:18\n",
       "5       65      668          bollywood  2013-05-10 01:37:56\n",
       "6       65      898   screwball comedy  2013-05-10 01:42:40\n",
       "7       65     1248      noir thriller  2013-05-10 01:39:43\n",
       "8       65     1391               mars  2013-05-10 01:40:55\n",
       "9       65     1617           neo-noir  2013-05-10 01:43:37\n",
       "10      65     1694              jesus  2013-05-10 01:38:45\n",
       "11      65     1783      noir thriller  2013-05-10 01:39:43\n",
       "12      65     2022              jesus  2013-05-10 01:38:45\n",
       "13      65     2193             dragon  2013-05-10 02:01:54\n",
       "14      65     2353  conspiracy theory  2013-05-10 02:01:06\n",
       "15      65     2662               mars  2013-05-10 01:40:55\n",
       "16      65     2726      noir thriller  2013-05-10 01:39:43\n",
       "17      65     2840              jesus  2013-05-10 01:38:45\n",
       "18      65     3052              jesus  2013-05-10 01:38:46\n",
       "19      65     5135          bollywood  2013-05-10 01:37:56"
      ]
     },
     "execution_count": 3,
     "metadata": {},
     "output_type": "execute_result"
    }
   ],
   "source": [
    "\n",
    "tag = pd.read_csv(\"C:/Users/HP/Downloads/archive/tag.csv\")\n",
    "movie = pd.read_csv(\"C:/Users/HP/Downloads/archive/movie.csv\")\n",
    "link = pd.read_csv(\"C:/Users/HP/Downloads/archive/link.csv\")\n",
    "genome_tags = pd.read_csv(\"C:/Users/HP/Downloads/archive/genome_tags.csv\")\n",
    "genome_scores = pd.read_csv(\"C:/Users/HP/Downloads/archive/genome_scores.csv\")\n",
    "\n",
    "tag.head(20)"
   ]
  },
  {
   "cell_type": "code",
   "execution_count": 40,
   "id": "95445e4b",
   "metadata": {},
   "outputs": [
    {
     "name": "stdout",
     "output_type": "stream",
     "text": [
      "<class 'pandas.core.frame.DataFrame'>\n",
      "RangeIndex: 465564 entries, 0 to 465563\n",
      "Data columns (total 4 columns):\n",
      " #   Column     Non-Null Count   Dtype \n",
      "---  ------     --------------   ----- \n",
      " 0   userId     465564 non-null  int64 \n",
      " 1   movieId    465564 non-null  int64 \n",
      " 2   tag        465548 non-null  object\n",
      " 3   timestamp  465564 non-null  object\n",
      "dtypes: int64(2), object(2)\n",
      "memory usage: 14.2+ MB\n"
     ]
    }
   ],
   "source": [
    "tag.info()"
   ]
  },
  {
   "cell_type": "code",
   "execution_count": 80,
   "id": "41bc685b",
   "metadata": {},
   "outputs": [
    {
     "data": {
      "text/plain": [
       "array(['Mark Waters', 'dark hero', 'noir thriller', ..., 'circle k',\n",
       "       'This movie should have been called \\\\\\\\\"How Cocaine Ruined Disney\\\\\"\\\\\"\"',\n",
       "       'topless scene'], dtype=object)"
      ]
     },
     "execution_count": 80,
     "metadata": {},
     "output_type": "execute_result"
    }
   ],
   "source": [
    "tag[\"tag\"].unique()"
   ]
  },
  {
   "cell_type": "code",
   "execution_count": 81,
   "id": "95c58c16",
   "metadata": {},
   "outputs": [
    {
     "data": {
      "text/plain": [
       "array([    18,     65,     96, ..., 138437, 138446, 138472], dtype=int64)"
      ]
     },
     "execution_count": 81,
     "metadata": {},
     "output_type": "execute_result"
    }
   ],
   "source": [
    "tag[\"userId\"].unique()"
   ]
  },
  {
   "cell_type": "code",
   "execution_count": 82,
   "id": "48db7f15",
   "metadata": {},
   "outputs": [
    {
     "data": {
      "text/plain": [
       "array([  4141,    208,    353, ..., 113539, 115373,   1495], dtype=int64)"
      ]
     },
     "execution_count": 82,
     "metadata": {},
     "output_type": "execute_result"
    }
   ],
   "source": [
    "tag[\"movieId\"].unique()"
   ]
  },
  {
   "cell_type": "code",
   "execution_count": 83,
   "id": "532acc31",
   "metadata": {},
   "outputs": [
    {
     "data": {
      "text/plain": [
       "array(['2009-04-24 18:19:40', '2013-05-10 01:41:18',\n",
       "       '2013-05-10 01:41:19', ..., '2013-01-23 23:29:32',\n",
       "       '2013-01-23 23:29:38', '2007-11-02 21:12:47'], dtype=object)"
      ]
     },
     "execution_count": 83,
     "metadata": {},
     "output_type": "execute_result"
    }
   ],
   "source": [
    "tag[\"timestamp\"].unique()"
   ]
  },
  {
   "cell_type": "code",
   "execution_count": 84,
   "id": "e8c34275",
   "metadata": {},
   "outputs": [
    {
     "data": {
      "text/plain": [
       "userId        0\n",
       "movieId       0\n",
       "tag          16\n",
       "timestamp     0\n",
       "dtype: int64"
      ]
     },
     "execution_count": 84,
     "metadata": {},
     "output_type": "execute_result"
    }
   ],
   "source": [
    "tag.isnull().sum()"
   ]
  },
  {
   "cell_type": "code",
   "execution_count": 85,
   "id": "1a3fac0a",
   "metadata": {},
   "outputs": [
    {
     "data": {
      "text/plain": [
       "(465564, 4)"
      ]
     },
     "execution_count": 85,
     "metadata": {},
     "output_type": "execute_result"
    }
   ],
   "source": [
    "tag.shape"
   ]
  },
  {
   "cell_type": "code",
   "execution_count": 87,
   "id": "2d1dc6ef",
   "metadata": {},
   "outputs": [
    {
     "data": {
      "text/plain": [
       "userId        int64\n",
       "movieId       int64\n",
       "tag          object\n",
       "timestamp    object\n",
       "dtype: object"
      ]
     },
     "execution_count": 87,
     "metadata": {},
     "output_type": "execute_result"
    }
   ],
   "source": [
    "tag.dtypes"
   ]
  },
  {
   "cell_type": "code",
   "execution_count": 86,
   "id": "2f9ddfa6",
   "metadata": {},
   "outputs": [
    {
     "data": {
      "text/html": [
       "<div>\n",
       "<style scoped>\n",
       "    .dataframe tbody tr th:only-of-type {\n",
       "        vertical-align: middle;\n",
       "    }\n",
       "\n",
       "    .dataframe tbody tr th {\n",
       "        vertical-align: top;\n",
       "    }\n",
       "\n",
       "    .dataframe thead th {\n",
       "        text-align: right;\n",
       "    }\n",
       "</style>\n",
       "<table border=\"1\" class=\"dataframe\">\n",
       "  <thead>\n",
       "    <tr style=\"text-align: right;\">\n",
       "      <th></th>\n",
       "      <th>movieId</th>\n",
       "      <th>title</th>\n",
       "      <th>genres</th>\n",
       "    </tr>\n",
       "  </thead>\n",
       "  <tbody>\n",
       "    <tr>\n",
       "      <th>0</th>\n",
       "      <td>1</td>\n",
       "      <td>Toy Story (1995)</td>\n",
       "      <td>Adventure|Animation|Children|Comedy|Fantasy</td>\n",
       "    </tr>\n",
       "    <tr>\n",
       "      <th>1</th>\n",
       "      <td>2</td>\n",
       "      <td>Jumanji (1995)</td>\n",
       "      <td>Adventure|Children|Fantasy</td>\n",
       "    </tr>\n",
       "    <tr>\n",
       "      <th>2</th>\n",
       "      <td>3</td>\n",
       "      <td>Grumpier Old Men (1995)</td>\n",
       "      <td>Comedy|Romance</td>\n",
       "    </tr>\n",
       "    <tr>\n",
       "      <th>3</th>\n",
       "      <td>4</td>\n",
       "      <td>Waiting to Exhale (1995)</td>\n",
       "      <td>Comedy|Drama|Romance</td>\n",
       "    </tr>\n",
       "    <tr>\n",
       "      <th>4</th>\n",
       "      <td>5</td>\n",
       "      <td>Father of the Bride Part II (1995)</td>\n",
       "      <td>Comedy</td>\n",
       "    </tr>\n",
       "    <tr>\n",
       "      <th>5</th>\n",
       "      <td>6</td>\n",
       "      <td>Heat (1995)</td>\n",
       "      <td>Action|Crime|Thriller</td>\n",
       "    </tr>\n",
       "    <tr>\n",
       "      <th>6</th>\n",
       "      <td>7</td>\n",
       "      <td>Sabrina (1995)</td>\n",
       "      <td>Comedy|Romance</td>\n",
       "    </tr>\n",
       "    <tr>\n",
       "      <th>7</th>\n",
       "      <td>8</td>\n",
       "      <td>Tom and Huck (1995)</td>\n",
       "      <td>Adventure|Children</td>\n",
       "    </tr>\n",
       "    <tr>\n",
       "      <th>8</th>\n",
       "      <td>9</td>\n",
       "      <td>Sudden Death (1995)</td>\n",
       "      <td>Action</td>\n",
       "    </tr>\n",
       "    <tr>\n",
       "      <th>9</th>\n",
       "      <td>10</td>\n",
       "      <td>GoldenEye (1995)</td>\n",
       "      <td>Action|Adventure|Thriller</td>\n",
       "    </tr>\n",
       "    <tr>\n",
       "      <th>10</th>\n",
       "      <td>11</td>\n",
       "      <td>American President, The (1995)</td>\n",
       "      <td>Comedy|Drama|Romance</td>\n",
       "    </tr>\n",
       "    <tr>\n",
       "      <th>11</th>\n",
       "      <td>12</td>\n",
       "      <td>Dracula: Dead and Loving It (1995)</td>\n",
       "      <td>Comedy|Horror</td>\n",
       "    </tr>\n",
       "    <tr>\n",
       "      <th>12</th>\n",
       "      <td>13</td>\n",
       "      <td>Balto (1995)</td>\n",
       "      <td>Adventure|Animation|Children</td>\n",
       "    </tr>\n",
       "    <tr>\n",
       "      <th>13</th>\n",
       "      <td>14</td>\n",
       "      <td>Nixon (1995)</td>\n",
       "      <td>Drama</td>\n",
       "    </tr>\n",
       "    <tr>\n",
       "      <th>14</th>\n",
       "      <td>15</td>\n",
       "      <td>Cutthroat Island (1995)</td>\n",
       "      <td>Action|Adventure|Romance</td>\n",
       "    </tr>\n",
       "    <tr>\n",
       "      <th>15</th>\n",
       "      <td>16</td>\n",
       "      <td>Casino (1995)</td>\n",
       "      <td>Crime|Drama</td>\n",
       "    </tr>\n",
       "    <tr>\n",
       "      <th>16</th>\n",
       "      <td>17</td>\n",
       "      <td>Sense and Sensibility (1995)</td>\n",
       "      <td>Drama|Romance</td>\n",
       "    </tr>\n",
       "    <tr>\n",
       "      <th>17</th>\n",
       "      <td>18</td>\n",
       "      <td>Four Rooms (1995)</td>\n",
       "      <td>Comedy</td>\n",
       "    </tr>\n",
       "    <tr>\n",
       "      <th>18</th>\n",
       "      <td>19</td>\n",
       "      <td>Ace Ventura: When Nature Calls (1995)</td>\n",
       "      <td>Comedy</td>\n",
       "    </tr>\n",
       "    <tr>\n",
       "      <th>19</th>\n",
       "      <td>20</td>\n",
       "      <td>Money Train (1995)</td>\n",
       "      <td>Action|Comedy|Crime|Drama|Thriller</td>\n",
       "    </tr>\n",
       "  </tbody>\n",
       "</table>\n",
       "</div>"
      ],
      "text/plain": [
       "    movieId                                  title  \\\n",
       "0         1                       Toy Story (1995)   \n",
       "1         2                         Jumanji (1995)   \n",
       "2         3                Grumpier Old Men (1995)   \n",
       "3         4               Waiting to Exhale (1995)   \n",
       "4         5     Father of the Bride Part II (1995)   \n",
       "5         6                            Heat (1995)   \n",
       "6         7                         Sabrina (1995)   \n",
       "7         8                    Tom and Huck (1995)   \n",
       "8         9                    Sudden Death (1995)   \n",
       "9        10                       GoldenEye (1995)   \n",
       "10       11         American President, The (1995)   \n",
       "11       12     Dracula: Dead and Loving It (1995)   \n",
       "12       13                           Balto (1995)   \n",
       "13       14                           Nixon (1995)   \n",
       "14       15                Cutthroat Island (1995)   \n",
       "15       16                          Casino (1995)   \n",
       "16       17           Sense and Sensibility (1995)   \n",
       "17       18                      Four Rooms (1995)   \n",
       "18       19  Ace Ventura: When Nature Calls (1995)   \n",
       "19       20                     Money Train (1995)   \n",
       "\n",
       "                                         genres  \n",
       "0   Adventure|Animation|Children|Comedy|Fantasy  \n",
       "1                    Adventure|Children|Fantasy  \n",
       "2                                Comedy|Romance  \n",
       "3                          Comedy|Drama|Romance  \n",
       "4                                        Comedy  \n",
       "5                         Action|Crime|Thriller  \n",
       "6                                Comedy|Romance  \n",
       "7                            Adventure|Children  \n",
       "8                                        Action  \n",
       "9                     Action|Adventure|Thriller  \n",
       "10                         Comedy|Drama|Romance  \n",
       "11                                Comedy|Horror  \n",
       "12                 Adventure|Animation|Children  \n",
       "13                                        Drama  \n",
       "14                     Action|Adventure|Romance  \n",
       "15                                  Crime|Drama  \n",
       "16                                Drama|Romance  \n",
       "17                                       Comedy  \n",
       "18                                       Comedy  \n",
       "19           Action|Comedy|Crime|Drama|Thriller  "
      ]
     },
     "execution_count": 86,
     "metadata": {},
     "output_type": "execute_result"
    }
   ],
   "source": [
    "movie.head(20)"
   ]
  },
  {
   "cell_type": "code",
   "execution_count": 88,
   "id": "d62319d0",
   "metadata": {},
   "outputs": [
    {
     "data": {
      "text/html": [
       "<div>\n",
       "<style scoped>\n",
       "    .dataframe tbody tr th:only-of-type {\n",
       "        vertical-align: middle;\n",
       "    }\n",
       "\n",
       "    .dataframe tbody tr th {\n",
       "        vertical-align: top;\n",
       "    }\n",
       "\n",
       "    .dataframe thead th {\n",
       "        text-align: right;\n",
       "    }\n",
       "</style>\n",
       "<table border=\"1\" class=\"dataframe\">\n",
       "  <thead>\n",
       "    <tr style=\"text-align: right;\">\n",
       "      <th></th>\n",
       "      <th>movieId</th>\n",
       "    </tr>\n",
       "  </thead>\n",
       "  <tbody>\n",
       "    <tr>\n",
       "      <th>count</th>\n",
       "      <td>27278.00000</td>\n",
       "    </tr>\n",
       "    <tr>\n",
       "      <th>mean</th>\n",
       "      <td>59855.48057</td>\n",
       "    </tr>\n",
       "    <tr>\n",
       "      <th>std</th>\n",
       "      <td>44429.31470</td>\n",
       "    </tr>\n",
       "    <tr>\n",
       "      <th>min</th>\n",
       "      <td>1.00000</td>\n",
       "    </tr>\n",
       "    <tr>\n",
       "      <th>25%</th>\n",
       "      <td>6931.25000</td>\n",
       "    </tr>\n",
       "    <tr>\n",
       "      <th>50%</th>\n",
       "      <td>68068.00000</td>\n",
       "    </tr>\n",
       "    <tr>\n",
       "      <th>75%</th>\n",
       "      <td>100293.25000</td>\n",
       "    </tr>\n",
       "    <tr>\n",
       "      <th>max</th>\n",
       "      <td>131262.00000</td>\n",
       "    </tr>\n",
       "  </tbody>\n",
       "</table>\n",
       "</div>"
      ],
      "text/plain": [
       "           movieId\n",
       "count  27278.00000\n",
       "mean   59855.48057\n",
       "std    44429.31470\n",
       "min        1.00000\n",
       "25%     6931.25000\n",
       "50%    68068.00000\n",
       "75%   100293.25000\n",
       "max   131262.00000"
      ]
     },
     "execution_count": 88,
     "metadata": {},
     "output_type": "execute_result"
    }
   ],
   "source": [
    "movie.describe()"
   ]
  },
  {
   "cell_type": "code",
   "execution_count": 89,
   "id": "a67cfc32",
   "metadata": {},
   "outputs": [
    {
     "data": {
      "text/plain": [
       "<bound method DataFrame.info of        movieId                               title  \\\n",
       "0            1                    Toy Story (1995)   \n",
       "1            2                      Jumanji (1995)   \n",
       "2            3             Grumpier Old Men (1995)   \n",
       "3            4            Waiting to Exhale (1995)   \n",
       "4            5  Father of the Bride Part II (1995)   \n",
       "...        ...                                 ...   \n",
       "27273   131254        Kein Bund für's Leben (2007)   \n",
       "27274   131256       Feuer, Eis & Dosenbier (2002)   \n",
       "27275   131258                  The Pirates (2014)   \n",
       "27276   131260                 Rentun Ruusu (2001)   \n",
       "27277   131262                    Innocence (2014)   \n",
       "\n",
       "                                            genres  \n",
       "0      Adventure|Animation|Children|Comedy|Fantasy  \n",
       "1                       Adventure|Children|Fantasy  \n",
       "2                                   Comedy|Romance  \n",
       "3                             Comedy|Drama|Romance  \n",
       "4                                           Comedy  \n",
       "...                                            ...  \n",
       "27273                                       Comedy  \n",
       "27274                                       Comedy  \n",
       "27275                                    Adventure  \n",
       "27276                           (no genres listed)  \n",
       "27277                     Adventure|Fantasy|Horror  \n",
       "\n",
       "[27278 rows x 3 columns]>"
      ]
     },
     "execution_count": 89,
     "metadata": {},
     "output_type": "execute_result"
    }
   ],
   "source": [
    "movie.info"
   ]
  },
  {
   "cell_type": "code",
   "execution_count": 90,
   "id": "cc0412a3",
   "metadata": {},
   "outputs": [
    {
     "data": {
      "text/plain": [
       "array(['Adventure|Animation|Children|Comedy|Fantasy',\n",
       "       'Adventure|Children|Fantasy', 'Comedy|Romance', ...,\n",
       "       'Action|Adventure|Animation|Fantasy|Horror',\n",
       "       'Animation|Children|Comedy|Fantasy|Sci-Fi',\n",
       "       'Animation|Children|Comedy|Western'], dtype=object)"
      ]
     },
     "execution_count": 90,
     "metadata": {},
     "output_type": "execute_result"
    }
   ],
   "source": [
    "movie[\"genres\"].unique()"
   ]
  },
  {
   "cell_type": "code",
   "execution_count": 78,
   "id": "629d09ff",
   "metadata": {},
   "outputs": [
    {
     "data": {
      "text/plain": [
       "array(['Toy Story (1995)', 'Jumanji (1995)', 'Grumpier Old Men (1995)',\n",
       "       ..., 'The Pirates (2014)', 'Rentun Ruusu (2001)',\n",
       "       'Innocence (2014)'], dtype=object)"
      ]
     },
     "execution_count": 78,
     "metadata": {},
     "output_type": "execute_result"
    }
   ],
   "source": [
    "movie[\"title\"].unique()"
   ]
  },
  {
   "cell_type": "code",
   "execution_count": 77,
   "id": "d6d65b7e",
   "metadata": {},
   "outputs": [
    {
     "data": {
      "text/plain": [
       "movieId    0\n",
       "title      0\n",
       "genres     0\n",
       "dtype: int64"
      ]
     },
     "execution_count": 77,
     "metadata": {},
     "output_type": "execute_result"
    }
   ],
   "source": [
    "movie.isnull().sum()"
   ]
  },
  {
   "cell_type": "code",
   "execution_count": 76,
   "id": "6c4e42aa",
   "metadata": {},
   "outputs": [
    {
     "data": {
      "text/plain": [
       "movieId    0\n",
       "title      0\n",
       "genres     0\n",
       "dtype: int64"
      ]
     },
     "execution_count": 76,
     "metadata": {},
     "output_type": "execute_result"
    }
   ],
   "source": [
    "movie.isna().sum()"
   ]
  },
  {
   "cell_type": "code",
   "execution_count": 75,
   "id": "2a093013",
   "metadata": {},
   "outputs": [
    {
     "data": {
      "text/plain": [
       "movieId     int64\n",
       "title      object\n",
       "genres     object\n",
       "dtype: object"
      ]
     },
     "execution_count": 75,
     "metadata": {},
     "output_type": "execute_result"
    }
   ],
   "source": [
    "movie.dtypes"
   ]
  },
  {
   "cell_type": "code",
   "execution_count": 74,
   "id": "d50852d4",
   "metadata": {},
   "outputs": [
    {
     "name": "stdout",
     "output_type": "stream",
     "text": [
      "<class 'pandas.core.frame.DataFrame'>\n",
      "RangeIndex: 27278 entries, 0 to 27277\n",
      "Data columns (total 3 columns):\n",
      " #   Column   Non-Null Count  Dtype  \n",
      "---  ------   --------------  -----  \n",
      " 0   movieId  27278 non-null  int64  \n",
      " 1   imdbId   27278 non-null  int64  \n",
      " 2   tmdbId   27026 non-null  float64\n",
      "dtypes: float64(1), int64(2)\n",
      "memory usage: 639.5 KB\n"
     ]
    }
   ],
   "source": [
    "link.info()"
   ]
  },
  {
   "cell_type": "code",
   "execution_count": 73,
   "id": "0426c63f",
   "metadata": {},
   "outputs": [
    {
     "data": {
      "text/html": [
       "<div>\n",
       "<style scoped>\n",
       "    .dataframe tbody tr th:only-of-type {\n",
       "        vertical-align: middle;\n",
       "    }\n",
       "\n",
       "    .dataframe tbody tr th {\n",
       "        vertical-align: top;\n",
       "    }\n",
       "\n",
       "    .dataframe thead th {\n",
       "        text-align: right;\n",
       "    }\n",
       "</style>\n",
       "<table border=\"1\" class=\"dataframe\">\n",
       "  <thead>\n",
       "    <tr style=\"text-align: right;\">\n",
       "      <th></th>\n",
       "      <th>movieId</th>\n",
       "      <th>imdbId</th>\n",
       "      <th>tmdbId</th>\n",
       "    </tr>\n",
       "  </thead>\n",
       "  <tbody>\n",
       "    <tr>\n",
       "      <th>count</th>\n",
       "      <td>27278.00000</td>\n",
       "      <td>27278.00000</td>\n",
       "      <td>27026.00000</td>\n",
       "    </tr>\n",
       "    <tr>\n",
       "      <th>mean</th>\n",
       "      <td>59855.48057</td>\n",
       "      <td>578185.96466</td>\n",
       "      <td>63846.68308</td>\n",
       "    </tr>\n",
       "    <tr>\n",
       "      <th>std</th>\n",
       "      <td>44429.31470</td>\n",
       "      <td>780470.68131</td>\n",
       "      <td>69862.13450</td>\n",
       "    </tr>\n",
       "    <tr>\n",
       "      <th>min</th>\n",
       "      <td>1.00000</td>\n",
       "      <td>5.00000</td>\n",
       "      <td>2.00000</td>\n",
       "    </tr>\n",
       "    <tr>\n",
       "      <th>25%</th>\n",
       "      <td>6931.25000</td>\n",
       "      <td>77417.25000</td>\n",
       "      <td>15936.50000</td>\n",
       "    </tr>\n",
       "    <tr>\n",
       "      <th>50%</th>\n",
       "      <td>68068.00000</td>\n",
       "      <td>152435.00000</td>\n",
       "      <td>39468.50000</td>\n",
       "    </tr>\n",
       "    <tr>\n",
       "      <th>75%</th>\n",
       "      <td>100293.25000</td>\n",
       "      <td>906271.50000</td>\n",
       "      <td>82504.00000</td>\n",
       "    </tr>\n",
       "    <tr>\n",
       "      <th>max</th>\n",
       "      <td>131262.00000</td>\n",
       "      <td>4530184.00000</td>\n",
       "      <td>421510.00000</td>\n",
       "    </tr>\n",
       "  </tbody>\n",
       "</table>\n",
       "</div>"
      ],
      "text/plain": [
       "           movieId        imdbId       tmdbId\n",
       "count  27278.00000   27278.00000  27026.00000\n",
       "mean   59855.48057  578185.96466  63846.68308\n",
       "std    44429.31470  780470.68131  69862.13450\n",
       "min        1.00000       5.00000      2.00000\n",
       "25%     6931.25000   77417.25000  15936.50000\n",
       "50%    68068.00000  152435.00000  39468.50000\n",
       "75%   100293.25000  906271.50000  82504.00000\n",
       "max   131262.00000 4530184.00000 421510.00000"
      ]
     },
     "execution_count": 73,
     "metadata": {},
     "output_type": "execute_result"
    }
   ],
   "source": [
    "link.describe()"
   ]
  },
  {
   "cell_type": "code",
   "execution_count": 72,
   "id": "1b9a9fd4",
   "metadata": {},
   "outputs": [
    {
     "data": {
      "text/plain": [
       "(27278, 3)"
      ]
     },
     "execution_count": 72,
     "metadata": {},
     "output_type": "execute_result"
    }
   ],
   "source": [
    "link.shape"
   ]
  },
  {
   "cell_type": "code",
   "execution_count": 71,
   "id": "62e9b585",
   "metadata": {},
   "outputs": [
    {
     "data": {
      "text/html": [
       "<div>\n",
       "<style scoped>\n",
       "    .dataframe tbody tr th:only-of-type {\n",
       "        vertical-align: middle;\n",
       "    }\n",
       "\n",
       "    .dataframe tbody tr th {\n",
       "        vertical-align: top;\n",
       "    }\n",
       "\n",
       "    .dataframe thead th {\n",
       "        text-align: right;\n",
       "    }\n",
       "</style>\n",
       "<table border=\"1\" class=\"dataframe\">\n",
       "  <thead>\n",
       "    <tr style=\"text-align: right;\">\n",
       "      <th></th>\n",
       "      <th>tagId</th>\n",
       "      <th>tag</th>\n",
       "    </tr>\n",
       "  </thead>\n",
       "  <tbody>\n",
       "    <tr>\n",
       "      <th>0</th>\n",
       "      <td>1</td>\n",
       "      <td>007</td>\n",
       "    </tr>\n",
       "    <tr>\n",
       "      <th>1</th>\n",
       "      <td>2</td>\n",
       "      <td>007 (series)</td>\n",
       "    </tr>\n",
       "    <tr>\n",
       "      <th>2</th>\n",
       "      <td>3</td>\n",
       "      <td>18th century</td>\n",
       "    </tr>\n",
       "    <tr>\n",
       "      <th>3</th>\n",
       "      <td>4</td>\n",
       "      <td>1920s</td>\n",
       "    </tr>\n",
       "    <tr>\n",
       "      <th>4</th>\n",
       "      <td>5</td>\n",
       "      <td>1930s</td>\n",
       "    </tr>\n",
       "    <tr>\n",
       "      <th>5</th>\n",
       "      <td>6</td>\n",
       "      <td>1950s</td>\n",
       "    </tr>\n",
       "    <tr>\n",
       "      <th>6</th>\n",
       "      <td>7</td>\n",
       "      <td>1960s</td>\n",
       "    </tr>\n",
       "    <tr>\n",
       "      <th>7</th>\n",
       "      <td>8</td>\n",
       "      <td>1970s</td>\n",
       "    </tr>\n",
       "    <tr>\n",
       "      <th>8</th>\n",
       "      <td>9</td>\n",
       "      <td>1980s</td>\n",
       "    </tr>\n",
       "    <tr>\n",
       "      <th>9</th>\n",
       "      <td>10</td>\n",
       "      <td>19th century</td>\n",
       "    </tr>\n",
       "    <tr>\n",
       "      <th>10</th>\n",
       "      <td>11</td>\n",
       "      <td>3d</td>\n",
       "    </tr>\n",
       "    <tr>\n",
       "      <th>11</th>\n",
       "      <td>12</td>\n",
       "      <td>70mm</td>\n",
       "    </tr>\n",
       "    <tr>\n",
       "      <th>12</th>\n",
       "      <td>13</td>\n",
       "      <td>80s</td>\n",
       "    </tr>\n",
       "    <tr>\n",
       "      <th>13</th>\n",
       "      <td>14</td>\n",
       "      <td>9/11</td>\n",
       "    </tr>\n",
       "    <tr>\n",
       "      <th>14</th>\n",
       "      <td>15</td>\n",
       "      <td>aardman</td>\n",
       "    </tr>\n",
       "    <tr>\n",
       "      <th>15</th>\n",
       "      <td>16</td>\n",
       "      <td>aardman studios</td>\n",
       "    </tr>\n",
       "    <tr>\n",
       "      <th>16</th>\n",
       "      <td>17</td>\n",
       "      <td>abortion</td>\n",
       "    </tr>\n",
       "    <tr>\n",
       "      <th>17</th>\n",
       "      <td>18</td>\n",
       "      <td>absurd</td>\n",
       "    </tr>\n",
       "    <tr>\n",
       "      <th>18</th>\n",
       "      <td>19</td>\n",
       "      <td>action</td>\n",
       "    </tr>\n",
       "    <tr>\n",
       "      <th>19</th>\n",
       "      <td>20</td>\n",
       "      <td>action packed</td>\n",
       "    </tr>\n",
       "  </tbody>\n",
       "</table>\n",
       "</div>"
      ],
      "text/plain": [
       "    tagId              tag\n",
       "0       1              007\n",
       "1       2     007 (series)\n",
       "2       3     18th century\n",
       "3       4            1920s\n",
       "4       5            1930s\n",
       "5       6            1950s\n",
       "6       7            1960s\n",
       "7       8            1970s\n",
       "8       9            1980s\n",
       "9      10     19th century\n",
       "10     11               3d\n",
       "11     12             70mm\n",
       "12     13              80s\n",
       "13     14             9/11\n",
       "14     15          aardman\n",
       "15     16  aardman studios\n",
       "16     17         abortion\n",
       "17     18           absurd\n",
       "18     19           action\n",
       "19     20    action packed"
      ]
     },
     "execution_count": 71,
     "metadata": {},
     "output_type": "execute_result"
    }
   ],
   "source": [
    "genome_tags.head(20)"
   ]
  },
  {
   "cell_type": "code",
   "execution_count": 70,
   "id": "b3f116e6",
   "metadata": {},
   "outputs": [
    {
     "name": "stdout",
     "output_type": "stream",
     "text": [
      "<class 'pandas.core.frame.DataFrame'>\n",
      "RangeIndex: 1128 entries, 0 to 1127\n",
      "Data columns (total 2 columns):\n",
      " #   Column  Non-Null Count  Dtype \n",
      "---  ------  --------------  ----- \n",
      " 0   tagId   1128 non-null   int64 \n",
      " 1   tag     1128 non-null   object\n",
      "dtypes: int64(1), object(1)\n",
      "memory usage: 17.8+ KB\n"
     ]
    }
   ],
   "source": [
    "genome_tags.info()"
   ]
  },
  {
   "cell_type": "code",
   "execution_count": 69,
   "id": "a8d56531",
   "metadata": {},
   "outputs": [
    {
     "data": {
      "text/plain": [
       "array(['007', '007 (series)', '18th century', ..., 'wwii', 'zombie',\n",
       "       'zombies'], dtype=object)"
      ]
     },
     "execution_count": 69,
     "metadata": {},
     "output_type": "execute_result"
    }
   ],
   "source": [
    "genome_tags[\"tag\"].unique()"
   ]
  },
  {
   "cell_type": "code",
   "execution_count": 68,
   "id": "f31fcb3f",
   "metadata": {},
   "outputs": [
    {
     "data": {
      "text/plain": [
       "(1128, 2)"
      ]
     },
     "execution_count": 68,
     "metadata": {},
     "output_type": "execute_result"
    }
   ],
   "source": [
    "genome_tags.shape"
   ]
  },
  {
   "cell_type": "code",
   "execution_count": 67,
   "id": "f3e77351",
   "metadata": {},
   "outputs": [
    {
     "data": {
      "text/html": [
       "<div>\n",
       "<style scoped>\n",
       "    .dataframe tbody tr th:only-of-type {\n",
       "        vertical-align: middle;\n",
       "    }\n",
       "\n",
       "    .dataframe tbody tr th {\n",
       "        vertical-align: top;\n",
       "    }\n",
       "\n",
       "    .dataframe thead th {\n",
       "        text-align: right;\n",
       "    }\n",
       "</style>\n",
       "<table border=\"1\" class=\"dataframe\">\n",
       "  <thead>\n",
       "    <tr style=\"text-align: right;\">\n",
       "      <th></th>\n",
       "      <th>movieId</th>\n",
       "      <th>tagId</th>\n",
       "      <th>relevance</th>\n",
       "    </tr>\n",
       "  </thead>\n",
       "  <tbody>\n",
       "    <tr>\n",
       "      <th>0</th>\n",
       "      <td>1</td>\n",
       "      <td>1</td>\n",
       "      <td>0.02500</td>\n",
       "    </tr>\n",
       "    <tr>\n",
       "      <th>1</th>\n",
       "      <td>1</td>\n",
       "      <td>2</td>\n",
       "      <td>0.02500</td>\n",
       "    </tr>\n",
       "    <tr>\n",
       "      <th>2</th>\n",
       "      <td>1</td>\n",
       "      <td>3</td>\n",
       "      <td>0.05775</td>\n",
       "    </tr>\n",
       "    <tr>\n",
       "      <th>3</th>\n",
       "      <td>1</td>\n",
       "      <td>4</td>\n",
       "      <td>0.09675</td>\n",
       "    </tr>\n",
       "    <tr>\n",
       "      <th>4</th>\n",
       "      <td>1</td>\n",
       "      <td>5</td>\n",
       "      <td>0.14675</td>\n",
       "    </tr>\n",
       "    <tr>\n",
       "      <th>5</th>\n",
       "      <td>1</td>\n",
       "      <td>6</td>\n",
       "      <td>0.21700</td>\n",
       "    </tr>\n",
       "    <tr>\n",
       "      <th>6</th>\n",
       "      <td>1</td>\n",
       "      <td>7</td>\n",
       "      <td>0.06700</td>\n",
       "    </tr>\n",
       "    <tr>\n",
       "      <th>7</th>\n",
       "      <td>1</td>\n",
       "      <td>8</td>\n",
       "      <td>0.26275</td>\n",
       "    </tr>\n",
       "    <tr>\n",
       "      <th>8</th>\n",
       "      <td>1</td>\n",
       "      <td>9</td>\n",
       "      <td>0.26200</td>\n",
       "    </tr>\n",
       "    <tr>\n",
       "      <th>9</th>\n",
       "      <td>1</td>\n",
       "      <td>10</td>\n",
       "      <td>0.03200</td>\n",
       "    </tr>\n",
       "    <tr>\n",
       "      <th>10</th>\n",
       "      <td>1</td>\n",
       "      <td>11</td>\n",
       "      <td>0.57700</td>\n",
       "    </tr>\n",
       "    <tr>\n",
       "      <th>11</th>\n",
       "      <td>1</td>\n",
       "      <td>12</td>\n",
       "      <td>0.11625</td>\n",
       "    </tr>\n",
       "    <tr>\n",
       "      <th>12</th>\n",
       "      <td>1</td>\n",
       "      <td>13</td>\n",
       "      <td>0.18800</td>\n",
       "    </tr>\n",
       "    <tr>\n",
       "      <th>13</th>\n",
       "      <td>1</td>\n",
       "      <td>14</td>\n",
       "      <td>0.00800</td>\n",
       "    </tr>\n",
       "    <tr>\n",
       "      <th>14</th>\n",
       "      <td>1</td>\n",
       "      <td>15</td>\n",
       "      <td>0.03675</td>\n",
       "    </tr>\n",
       "    <tr>\n",
       "      <th>15</th>\n",
       "      <td>1</td>\n",
       "      <td>16</td>\n",
       "      <td>0.28175</td>\n",
       "    </tr>\n",
       "    <tr>\n",
       "      <th>16</th>\n",
       "      <td>1</td>\n",
       "      <td>17</td>\n",
       "      <td>0.00700</td>\n",
       "    </tr>\n",
       "    <tr>\n",
       "      <th>17</th>\n",
       "      <td>1</td>\n",
       "      <td>18</td>\n",
       "      <td>0.11050</td>\n",
       "    </tr>\n",
       "    <tr>\n",
       "      <th>18</th>\n",
       "      <td>1</td>\n",
       "      <td>19</td>\n",
       "      <td>0.67050</td>\n",
       "    </tr>\n",
       "    <tr>\n",
       "      <th>19</th>\n",
       "      <td>1</td>\n",
       "      <td>20</td>\n",
       "      <td>0.18450</td>\n",
       "    </tr>\n",
       "  </tbody>\n",
       "</table>\n",
       "</div>"
      ],
      "text/plain": [
       "    movieId  tagId  relevance\n",
       "0         1      1    0.02500\n",
       "1         1      2    0.02500\n",
       "2         1      3    0.05775\n",
       "3         1      4    0.09675\n",
       "4         1      5    0.14675\n",
       "5         1      6    0.21700\n",
       "6         1      7    0.06700\n",
       "7         1      8    0.26275\n",
       "8         1      9    0.26200\n",
       "9         1     10    0.03200\n",
       "10        1     11    0.57700\n",
       "11        1     12    0.11625\n",
       "12        1     13    0.18800\n",
       "13        1     14    0.00800\n",
       "14        1     15    0.03675\n",
       "15        1     16    0.28175\n",
       "16        1     17    0.00700\n",
       "17        1     18    0.11050\n",
       "18        1     19    0.67050\n",
       "19        1     20    0.18450"
      ]
     },
     "execution_count": 67,
     "metadata": {},
     "output_type": "execute_result"
    }
   ],
   "source": [
    "genome_scores.head(20)"
   ]
  },
  {
   "cell_type": "code",
   "execution_count": 66,
   "id": "6d12b2eb",
   "metadata": {},
   "outputs": [
    {
     "name": "stdout",
     "output_type": "stream",
     "text": [
      "<class 'pandas.core.frame.DataFrame'>\n",
      "RangeIndex: 11709768 entries, 0 to 11709767\n",
      "Data columns (total 3 columns):\n",
      " #   Column     Dtype  \n",
      "---  ------     -----  \n",
      " 0   movieId    int64  \n",
      " 1   tagId      int64  \n",
      " 2   relevance  float64\n",
      "dtypes: float64(1), int64(2)\n",
      "memory usage: 268.0 MB\n"
     ]
    }
   ],
   "source": [
    "genome_scores.info()"
   ]
  },
  {
   "cell_type": "code",
   "execution_count": 65,
   "id": "f798bdf4",
   "metadata": {},
   "outputs": [
    {
     "data": {
      "text/html": [
       "<div>\n",
       "<style scoped>\n",
       "    .dataframe tbody tr th:only-of-type {\n",
       "        vertical-align: middle;\n",
       "    }\n",
       "\n",
       "    .dataframe tbody tr th {\n",
       "        vertical-align: top;\n",
       "    }\n",
       "\n",
       "    .dataframe thead th {\n",
       "        text-align: right;\n",
       "    }\n",
       "</style>\n",
       "<table border=\"1\" class=\"dataframe\">\n",
       "  <thead>\n",
       "    <tr style=\"text-align: right;\">\n",
       "      <th></th>\n",
       "      <th>movieId</th>\n",
       "      <th>tagId</th>\n",
       "      <th>relevance</th>\n",
       "    </tr>\n",
       "  </thead>\n",
       "  <tbody>\n",
       "    <tr>\n",
       "      <th>count</th>\n",
       "      <td>11709768.00000</td>\n",
       "      <td>11709768.00000</td>\n",
       "      <td>11709768.00000</td>\n",
       "    </tr>\n",
       "    <tr>\n",
       "      <th>mean</th>\n",
       "      <td>25842.96580</td>\n",
       "      <td>564.50000</td>\n",
       "      <td>0.11648</td>\n",
       "    </tr>\n",
       "    <tr>\n",
       "      <th>std</th>\n",
       "      <td>34676.15200</td>\n",
       "      <td>325.62544</td>\n",
       "      <td>0.15425</td>\n",
       "    </tr>\n",
       "    <tr>\n",
       "      <th>min</th>\n",
       "      <td>1.00000</td>\n",
       "      <td>1.00000</td>\n",
       "      <td>0.00025</td>\n",
       "    </tr>\n",
       "    <tr>\n",
       "      <th>25%</th>\n",
       "      <td>2926.00000</td>\n",
       "      <td>282.75000</td>\n",
       "      <td>0.02425</td>\n",
       "    </tr>\n",
       "    <tr>\n",
       "      <th>50%</th>\n",
       "      <td>6017.00000</td>\n",
       "      <td>564.50000</td>\n",
       "      <td>0.05650</td>\n",
       "    </tr>\n",
       "    <tr>\n",
       "      <th>75%</th>\n",
       "      <td>46062.00000</td>\n",
       "      <td>846.25000</td>\n",
       "      <td>0.14150</td>\n",
       "    </tr>\n",
       "    <tr>\n",
       "      <th>max</th>\n",
       "      <td>131170.00000</td>\n",
       "      <td>1128.00000</td>\n",
       "      <td>1.00000</td>\n",
       "    </tr>\n",
       "  </tbody>\n",
       "</table>\n",
       "</div>"
      ],
      "text/plain": [
       "             movieId          tagId      relevance\n",
       "count 11709768.00000 11709768.00000 11709768.00000\n",
       "mean     25842.96580      564.50000        0.11648\n",
       "std      34676.15200      325.62544        0.15425\n",
       "min          1.00000        1.00000        0.00025\n",
       "25%       2926.00000      282.75000        0.02425\n",
       "50%       6017.00000      564.50000        0.05650\n",
       "75%      46062.00000      846.25000        0.14150\n",
       "max     131170.00000     1128.00000        1.00000"
      ]
     },
     "execution_count": 65,
     "metadata": {},
     "output_type": "execute_result"
    }
   ],
   "source": [
    "genome_scores.describe()"
   ]
  },
  {
   "cell_type": "code",
   "execution_count": 64,
   "id": "ab84a9b7",
   "metadata": {},
   "outputs": [
    {
     "data": {
      "text/plain": [
       "array([     1,      2,      3, ..., 131013, 131168, 131170], dtype=int64)"
      ]
     },
     "execution_count": 64,
     "metadata": {},
     "output_type": "execute_result"
    }
   ],
   "source": [
    "genome_scores[\"movieId\"].unique()"
   ]
  },
  {
   "cell_type": "code",
   "execution_count": 63,
   "id": "b2bac48a",
   "metadata": {},
   "outputs": [
    {
     "data": {
      "text/plain": [
       "array([2.5000e-02, 5.7750e-02, 9.6750e-02, ..., 8.9250e-01, 9.2775e-01,\n",
       "       2.5000e-04])"
      ]
     },
     "execution_count": 63,
     "metadata": {},
     "output_type": "execute_result"
    }
   ],
   "source": [
    "genome_scores[\"relevance\"].unique()"
   ]
  },
  {
   "cell_type": "code",
   "execution_count": 41,
   "id": "e40600c0",
   "metadata": {},
   "outputs": [
    {
     "data": {
      "text/html": [
       "<div>\n",
       "<style scoped>\n",
       "    .dataframe tbody tr th:only-of-type {\n",
       "        vertical-align: middle;\n",
       "    }\n",
       "\n",
       "    .dataframe tbody tr th {\n",
       "        vertical-align: top;\n",
       "    }\n",
       "\n",
       "    .dataframe thead th {\n",
       "        text-align: right;\n",
       "    }\n",
       "</style>\n",
       "<table border=\"1\" class=\"dataframe\">\n",
       "  <thead>\n",
       "    <tr style=\"text-align: right;\">\n",
       "      <th></th>\n",
       "      <th>userId</th>\n",
       "      <th>movieId</th>\n",
       "      <th>rating</th>\n",
       "      <th>timestamp</th>\n",
       "    </tr>\n",
       "  </thead>\n",
       "  <tbody>\n",
       "    <tr>\n",
       "      <th>0</th>\n",
       "      <td>1</td>\n",
       "      <td>2</td>\n",
       "      <td>3.5</td>\n",
       "      <td>2005-04-02 23:53:47</td>\n",
       "    </tr>\n",
       "    <tr>\n",
       "      <th>1</th>\n",
       "      <td>1</td>\n",
       "      <td>29</td>\n",
       "      <td>3.5</td>\n",
       "      <td>2005-04-02 23:31:16</td>\n",
       "    </tr>\n",
       "    <tr>\n",
       "      <th>2</th>\n",
       "      <td>1</td>\n",
       "      <td>32</td>\n",
       "      <td>3.5</td>\n",
       "      <td>2005-04-02 23:33:39</td>\n",
       "    </tr>\n",
       "    <tr>\n",
       "      <th>3</th>\n",
       "      <td>1</td>\n",
       "      <td>47</td>\n",
       "      <td>3.5</td>\n",
       "      <td>2005-04-02 23:32:07</td>\n",
       "    </tr>\n",
       "    <tr>\n",
       "      <th>4</th>\n",
       "      <td>1</td>\n",
       "      <td>50</td>\n",
       "      <td>3.5</td>\n",
       "      <td>2005-04-02 23:29:40</td>\n",
       "    </tr>\n",
       "    <tr>\n",
       "      <th>5</th>\n",
       "      <td>1</td>\n",
       "      <td>112</td>\n",
       "      <td>3.5</td>\n",
       "      <td>2004-09-10 03:09:00</td>\n",
       "    </tr>\n",
       "    <tr>\n",
       "      <th>6</th>\n",
       "      <td>1</td>\n",
       "      <td>151</td>\n",
       "      <td>4.0</td>\n",
       "      <td>2004-09-10 03:08:54</td>\n",
       "    </tr>\n",
       "    <tr>\n",
       "      <th>7</th>\n",
       "      <td>1</td>\n",
       "      <td>223</td>\n",
       "      <td>4.0</td>\n",
       "      <td>2005-04-02 23:46:13</td>\n",
       "    </tr>\n",
       "    <tr>\n",
       "      <th>8</th>\n",
       "      <td>1</td>\n",
       "      <td>253</td>\n",
       "      <td>4.0</td>\n",
       "      <td>2005-04-02 23:35:40</td>\n",
       "    </tr>\n",
       "    <tr>\n",
       "      <th>9</th>\n",
       "      <td>1</td>\n",
       "      <td>260</td>\n",
       "      <td>4.0</td>\n",
       "      <td>2005-04-02 23:33:46</td>\n",
       "    </tr>\n",
       "    <tr>\n",
       "      <th>10</th>\n",
       "      <td>1</td>\n",
       "      <td>293</td>\n",
       "      <td>4.0</td>\n",
       "      <td>2005-04-02 23:31:43</td>\n",
       "    </tr>\n",
       "    <tr>\n",
       "      <th>11</th>\n",
       "      <td>1</td>\n",
       "      <td>296</td>\n",
       "      <td>4.0</td>\n",
       "      <td>2005-04-02 23:32:47</td>\n",
       "    </tr>\n",
       "    <tr>\n",
       "      <th>12</th>\n",
       "      <td>1</td>\n",
       "      <td>318</td>\n",
       "      <td>4.0</td>\n",
       "      <td>2005-04-02 23:33:18</td>\n",
       "    </tr>\n",
       "    <tr>\n",
       "      <th>13</th>\n",
       "      <td>1</td>\n",
       "      <td>337</td>\n",
       "      <td>3.5</td>\n",
       "      <td>2004-09-10 03:08:29</td>\n",
       "    </tr>\n",
       "    <tr>\n",
       "      <th>14</th>\n",
       "      <td>1</td>\n",
       "      <td>367</td>\n",
       "      <td>3.5</td>\n",
       "      <td>2005-04-02 23:53:00</td>\n",
       "    </tr>\n",
       "    <tr>\n",
       "      <th>15</th>\n",
       "      <td>1</td>\n",
       "      <td>541</td>\n",
       "      <td>4.0</td>\n",
       "      <td>2005-04-02 23:30:03</td>\n",
       "    </tr>\n",
       "    <tr>\n",
       "      <th>16</th>\n",
       "      <td>1</td>\n",
       "      <td>589</td>\n",
       "      <td>3.5</td>\n",
       "      <td>2005-04-02 23:45:57</td>\n",
       "    </tr>\n",
       "    <tr>\n",
       "      <th>17</th>\n",
       "      <td>1</td>\n",
       "      <td>593</td>\n",
       "      <td>3.5</td>\n",
       "      <td>2005-04-02 23:31:01</td>\n",
       "    </tr>\n",
       "    <tr>\n",
       "      <th>18</th>\n",
       "      <td>1</td>\n",
       "      <td>653</td>\n",
       "      <td>3.0</td>\n",
       "      <td>2004-09-10 03:08:11</td>\n",
       "    </tr>\n",
       "    <tr>\n",
       "      <th>19</th>\n",
       "      <td>1</td>\n",
       "      <td>919</td>\n",
       "      <td>3.5</td>\n",
       "      <td>2004-09-10 03:07:01</td>\n",
       "    </tr>\n",
       "  </tbody>\n",
       "</table>\n",
       "</div>"
      ],
      "text/plain": [
       "    userId  movieId  rating            timestamp\n",
       "0        1        2     3.5  2005-04-02 23:53:47\n",
       "1        1       29     3.5  2005-04-02 23:31:16\n",
       "2        1       32     3.5  2005-04-02 23:33:39\n",
       "3        1       47     3.5  2005-04-02 23:32:07\n",
       "4        1       50     3.5  2005-04-02 23:29:40\n",
       "5        1      112     3.5  2004-09-10 03:09:00\n",
       "6        1      151     4.0  2004-09-10 03:08:54\n",
       "7        1      223     4.0  2005-04-02 23:46:13\n",
       "8        1      253     4.0  2005-04-02 23:35:40\n",
       "9        1      260     4.0  2005-04-02 23:33:46\n",
       "10       1      293     4.0  2005-04-02 23:31:43\n",
       "11       1      296     4.0  2005-04-02 23:32:47\n",
       "12       1      318     4.0  2005-04-02 23:33:18\n",
       "13       1      337     3.5  2004-09-10 03:08:29\n",
       "14       1      367     3.5  2005-04-02 23:53:00\n",
       "15       1      541     4.0  2005-04-02 23:30:03\n",
       "16       1      589     3.5  2005-04-02 23:45:57\n",
       "17       1      593     3.5  2005-04-02 23:31:01\n",
       "18       1      653     3.0  2004-09-10 03:08:11\n",
       "19       1      919     3.5  2004-09-10 03:07:01"
      ]
     },
     "execution_count": 41,
     "metadata": {},
     "output_type": "execute_result"
    }
   ],
   "source": [
    "import pandas as pd\n",
    "rating = pd.read_csv(\"C:/Users/HP/Downloads/archive/rating.csv\")\n",
    "rating.head(20)"
   ]
  },
  {
   "cell_type": "code",
   "execution_count": 11,
   "id": "588c19c3",
   "metadata": {},
   "outputs": [
    {
     "name": "stdout",
     "output_type": "stream",
     "text": [
      "<class 'pandas.core.frame.DataFrame'>\n",
      "RangeIndex: 20000263 entries, 0 to 20000262\n",
      "Data columns (total 4 columns):\n",
      " #   Column     Dtype  \n",
      "---  ------     -----  \n",
      " 0   userId     int64  \n",
      " 1   movieId    int64  \n",
      " 2   rating     float64\n",
      " 3   timestamp  object \n",
      "dtypes: float64(1), int64(2), object(1)\n",
      "memory usage: 610.4+ MB\n"
     ]
    }
   ],
   "source": [
    "rating.info()"
   ]
  },
  {
   "cell_type": "code",
   "execution_count": 41,
   "id": "0495132d",
   "metadata": {
    "scrolled": true
   },
   "outputs": [
    {
     "ename": "AttributeError",
     "evalue": "'numpy.ndarray' object has no attribute 'describe'",
     "output_type": "error",
     "traceback": [
      "\u001b[1;31m---------------------------------------------------------------------------\u001b[0m",
      "\u001b[1;31mAttributeError\u001b[0m                            Traceback (most recent call last)",
      "Input \u001b[1;32mIn [41]\u001b[0m, in \u001b[0;36m<cell line: 1>\u001b[1;34m()\u001b[0m\n\u001b[1;32m----> 1\u001b[0m \u001b[43mdata\u001b[49m\u001b[38;5;241;43m.\u001b[39;49m\u001b[43mdescribe\u001b[49m()\n",
      "\u001b[1;31mAttributeError\u001b[0m: 'numpy.ndarray' object has no attribute 'describe'"
     ]
    }
   ],
   "source": [
    "data.describe()"
   ]
  },
  {
   "cell_type": "code",
   "execution_count": 15,
   "id": "7a5c38ba",
   "metadata": {},
   "outputs": [
    {
     "data": {
      "text/plain": [
       "userId       0\n",
       "movieId      0\n",
       "rating       0\n",
       "timestamp    0\n",
       "dtype: int64"
      ]
     },
     "execution_count": 15,
     "metadata": {},
     "output_type": "execute_result"
    }
   ],
   "source": [
    "data.isnull().sum()"
   ]
  },
  {
   "cell_type": "code",
   "execution_count": 46,
   "id": "d2905802",
   "metadata": {},
   "outputs": [
    {
     "data": {
      "text/plain": [
       "<seaborn.axisgrid.FacetGrid at 0x2a4e6a8c5b0>"
      ]
     },
     "execution_count": 46,
     "metadata": {},
     "output_type": "execute_result"
    },
    {
     "data": {
      "image/png": "[encoded data removed]",
      "text/plain": [
       "<Figure size 360x360 with 1 Axes>"
      ]
     },
     "metadata": {
      "needs_background": "light"
     },
     "output_type": "display_data"
    }
   ],
   "source": [
    "sns.displot(data.rating, color='red')"
   ]
  },
  {
   "cell_type": "code",
   "execution_count": 50,
   "id": "72b5ae43",
   "metadata": {},
   "outputs": [
    {
     "data": {
      "text/html": [
       "<div>\n",
       "<style scoped>\n",
       "    .dataframe tbody tr th:only-of-type {\n",
       "        vertical-align: middle;\n",
       "    }\n",
       "\n",
       "    .dataframe tbody tr th {\n",
       "        vertical-align: top;\n",
       "    }\n",
       "\n",
       "    .dataframe thead th {\n",
       "        text-align: right;\n",
       "    }\n",
       "</style>\n",
       "<table border=\"1\" class=\"dataframe\">\n",
       "  <thead>\n",
       "    <tr style=\"text-align: right;\">\n",
       "      <th></th>\n",
       "      <th>userId</th>\n",
       "      <th>movieId</th>\n",
       "      <th>rating</th>\n",
       "    </tr>\n",
       "  </thead>\n",
       "  <tbody>\n",
       "    <tr>\n",
       "      <th>userId</th>\n",
       "      <td>1.00000</td>\n",
       "      <td>-0.00085</td>\n",
       "      <td>0.00118</td>\n",
       "    </tr>\n",
       "    <tr>\n",
       "      <th>movieId</th>\n",
       "      <td>-0.00085</td>\n",
       "      <td>1.00000</td>\n",
       "      <td>0.00261</td>\n",
       "    </tr>\n",
       "    <tr>\n",
       "      <th>rating</th>\n",
       "      <td>0.00118</td>\n",
       "      <td>0.00261</td>\n",
       "      <td>1.00000</td>\n",
       "    </tr>\n",
       "  </tbody>\n",
       "</table>\n",
       "</div>"
      ],
      "text/plain": [
       "          userId  movieId  rating\n",
       "userId   1.00000 -0.00085 0.00118\n",
       "movieId -0.00085  1.00000 0.00261\n",
       "rating   0.00118  0.00261 1.00000"
      ]
     },
     "execution_count": 50,
     "metadata": {},
     "output_type": "execute_result"
    }
   ],
   "source": [
    "corr_mat_rating = data.corr()\n",
    "corr_mat_rating\n",
    "\n",
    "plt.figure(figsize=(10,8))\n",
    "plot = sns"
   ]
  },
  {
   "cell_type": "code",
   "execution_count": 57,
   "id": "e6b9287f",
   "metadata": {},
   "outputs": [
    {
     "data": {
      "text/plain": [
       "Text(0.5, 1.0, 'Rating Heat Map')"
      ]
     },
     "execution_count": 57,
     "metadata": {},
     "output_type": "execute_result"
    },
    {
     "data": {
      "image/png": "[encoded data removed]",
      "text/plain": [
       "<Figure size 720x576 with 2 Axes>"
      ]
     },
     "metadata": {
      "needs_background": "light"
     },
     "output_type": "display_data"
    }
   ],
   "source": [
    "plt.figure(figsize=(10,8))\n",
    "plot = sns.heatmap(data.corr().round(5), annot = True)\n",
    "plot.set_title(\"Rating Heat Map\")"
   ]
  },
  {
   "cell_type": "code",
   "execution_count": 98,
   "id": "33cedf1d",
   "metadata": {},
   "outputs": [
    {
     "name": "stdout",
     "output_type": "stream",
     "text": [
      "userId         int64\n",
      "movieId        int64\n",
      "rating       float64\n",
      "timestamp     object\n",
      "dtype: object\n",
      "Number of movies Null values:  22\n",
      "Number of ratings Null values:  0\n",
      "Elapsed time(sec):  43.5\n"
     ]
    }
   ],
   "source": [
    "st = default_timer()\n",
    "\n",
    "#First_time_data_load\n",
    "movie = pd.read_csv('C:/Users/HP/Downloads/archive/movie.csv')\n",
    "rating = pd.read_csv('C:/Users/HP/Downloads/archive/rating.csv')\n",
    "    \n",
    "# Organise a bit and store into feather-format\n",
    "movie.sort_values(by='movieId', inplace=True)\n",
    "movie.reset_index(inplace=True, drop=True)\n",
    "rating.sort_values(by='movieId', inplace=True)\n",
    "rating.reset_index(inplace=True, drop=True)\n",
    "\n",
    "print(rating.dtypes)\n",
    "\n",
    "# Split title and release year in separate columns in movies dataframe. Convert year to timestamp.\n",
    "movie['year'] = movie.title.str.extract(\"\\((\\d{4})\\)\", expand=True)\n",
    "movie.year = pd.to_datetime(movie.year, format='%Y')\n",
    "movie.year = movie.year.dt.year # As there are some NaN years, resulting type will be float (decimals)\n",
    "movie.title = movie.title.str[:-7]\n",
    "\n",
    "# Categorize movies genres properly\n",
    "genres_unique = pd.DataFrame(movie.genres.str.split('|').tolist()).stack().unique()\n",
    "genres_unique = pd.DataFrame(genres_unique, columns=['genre']) # Format into DataFrame to store later\n",
    "movie = movie.join(movie.genres.str.get_dummies().astype(bool))\n",
    "movie.drop('genres', inplace=True, axis=1)\n",
    "\n",
    "# Modify rating timestamp format (from seconds to datetime year)\n",
    "#ratings.timestamp = pd.to_datetime(ratings.timestamp, unit='s')\n",
    "rating.timestamp = pd.to_datetime(rating.timestamp, infer_datetime_format=True)\n",
    "rating.timestamp = rating.timestamp.dt.year\n",
    "\n",
    "# Check and clean NaN values\n",
    "print (\"Number of movies Null values: \", max(movie.isnull().sum()))\n",
    "print (\"Number of ratings Null values: \", max(rating.isnull().sum()))\n",
    "movie.dropna(inplace=True)\n",
    "rating.dropna(inplace=True)\n",
    "    \n",
    "# Organise a bit, then save into feather-formatand clear from memory\n",
    "movie.sort_values(by='movieId', inplace=True)\n",
    "rating.sort_values(by='movieId', inplace=True)\n",
    "movie.reset_index(inplace=True, drop=True)\n",
    "rating.reset_index(inplace=True, drop=True)\n",
    "\n",
    "   \n",
    "runtime = default_timer() - st\n",
    "print (\"Elapsed time(sec): \", round(runtime,2))\n"
   ]
  },
  {
   "cell_type": "code",
   "execution_count": 107,
   "id": "0427b946",
   "metadata": {},
   "outputs": [
    {
     "data": {
      "image/png": "[encoded data removed]",
      "text/plain": [
       "<Figure size 720x360 with 1 Axes>"
      ]
     },
     "metadata": {
      "needs_background": "light"
     },
     "output_type": "display_data"
    }
   ],
   "source": [
    "st = default_timer()\n",
    "\n",
    "dftmp = rating[['movieId','rating']].groupby('movieId').mean()\n",
    "\n",
    "# Initialize empty list to capture basic stats by genre\n",
    "rating_stats = []\n",
    "# Plot general histogram of all ratings\n",
    "dftmp.hist(bins=25, grid=False, edgecolor='b', label ='All genres', figsize=(10,5))\n",
    "# Plot histograms per genre\n",
    "for genre in genres_unique.genre:\n",
    "    dftmp = movie[movie[genre]==True]\n",
    "    dftmp = rating[rating.set_index('movieId').index.isin(dftmp.set_index('movieId').index)]\n",
    "    dftmp = dftmp[['movieId','rating']].groupby('movieId').mean()\n",
    "    dftmp.rating.plot(grid=False, alpha=0.6, kind='kde', label=genre)\n",
    "    avg = dftmp.rating.mean()\n",
    "    std = dftmp.rating.std()\n",
    "    rating_stats.append((genre, avg, std))\n",
    "plt.legend(loc=(1.05,0), ncol=2)\n",
    "plt.xlim(0,5)\n",
    "plt.xlabel('Movie rating')\n",
    "plt.title('Movie rating histograms')\n",
    "plt.show()"
   ]
  },
  {
   "cell_type": "code",
   "execution_count": 115,
   "id": "d91dca86",
   "metadata": {},
   "outputs": [
    {
     "data": {
      "image/png": "[encoded data removed]",
      "text/plain": [
       "<Figure size 432x288 with 1 Axes>"
      ]
     },
     "metadata": {
      "needs_background": "light"
     },
     "output_type": "display_data"
    },
    {
     "name": "stdout",
     "output_type": "stream",
     "text": [
      "Outliers:  {'Film-Noir', '(no genres listed)', 'IMAX'}\n",
      "genre    Adventure  Animation  Children  Comedy  Fantasy  Romance   Drama  \\\n",
      "average    3.07241    3.17710   2.95561 3.07427  3.09308  3.20574 3.26206   \n",
      "std_dev    0.65882    0.65273   0.71140 0.64896  0.66196  0.58383 0.58113   \n",
      "\n",
      "genre    Action   Crime  Thriller  Horror  Mystery  Sci-Fi    IMAX  \\\n",
      "average 2.97683 3.16685   3.01607 2.69680  3.13500 2.88951 3.29467   \n",
      "std_dev 0.66590 0.58460   0.64360 0.72049  0.59328 0.72031 0.42390   \n",
      "\n",
      "genre    Documentary     War  Musical  Western  Film-Noir  (no genres listed)  \n",
      "average      3.43663 3.32114  3.18083  3.07523    3.44415             2.77153  \n",
      "std_dev      0.62191 0.54391  0.58997  0.61373    0.46308             1.07136  \n"
     ]
    }
   ],
   "source": [
    "st = default_timer()\n",
    "\n",
    "# Construct a DataFrame with all the basic stats per genre\n",
    "rating_sum = pd.DataFrame(rating_stats,  columns=['genre', 'average', 'std_dev'])\n",
    "rating_sum.set_index('genre', inplace=True)\n",
    "# Display a boxplot to show the dispersion of average and standard deviation\n",
    "bxplot = plt.boxplot(rating_sum, labels=['Average', 'STD'], sym=\"ro\")\n",
    "# Properly label the outliers\n",
    "outliers = []\n",
    "for i, value in enumerate(bxplot['fliers']):\n",
    "    for val in value.get_ydata():\n",
    "        bxplot_label = rating_sum.index[rating_sum.iloc[:, i] == val][0]\n",
    "        outliers.append(bxplot_label)\n",
    "        plt.annotate(bxplot_label, xy=(i+1.1, val+np.random.uniform(-0.25,0.25))) # Trick to prevent overlapping\n",
    "outliers = set(outliers)\n",
    "plt.ylim(0,)\n",
    "plt.ylabel('Movie rating')\n",
    "plt.title('Movie rating descriptive stats')\n",
    "plt.show()\n",
    "\n",
    "\n",
    "print(\"Outliers: \", outliers)\n",
    "print(rating_sum.T)\n"
   ]
  },
  {
   "cell_type": "code",
   "execution_count": 33,
   "id": "321a8da1",
   "metadata": {},
   "outputs": [],
   "source": [
    "data = np.random.rand(100, 10)\n",
    "train, test = train_test_split(data,  test_size=0.15, random_state =42)"
   ]
  },
  {
   "cell_type": "code",
   "execution_count": 34,
   "id": "e5fe448f",
   "metadata": {},
   "outputs": [
    {
     "data": {
      "text/plain": [
       "85"
      ]
     },
     "execution_count": 34,
     "metadata": {},
     "output_type": "execute_result"
    }
   ],
   "source": [
    "len(train)"
   ]
  },
  {
   "cell_type": "code",
   "execution_count": 36,
   "id": "a8bfc51c",
   "metadata": {},
   "outputs": [
    {
     "data": {
      "text/plain": [
       "15"
      ]
     },
     "execution_count": 36,
     "metadata": {},
     "output_type": "execute_result"
    }
   ],
   "source": [
    "len(test)"
   ]
  },
  {
   "cell_type": "code",
   "execution_count": 12,
   "id": "be295dbb",
   "metadata": {},
   "outputs": [
    {
     "data": {
      "text/html": [
       "<div>\n",
       "<style scoped>\n",
       "    .dataframe tbody tr th:only-of-type {\n",
       "        vertical-align: middle;\n",
       "    }\n",
       "\n",
       "    .dataframe tbody tr th {\n",
       "        vertical-align: top;\n",
       "    }\n",
       "\n",
       "    .dataframe thead th {\n",
       "        text-align: right;\n",
       "    }\n",
       "</style>\n",
       "<table border=\"1\" class=\"dataframe\">\n",
       "  <thead>\n",
       "    <tr style=\"text-align: right;\">\n",
       "      <th></th>\n",
       "      <th>movieId</th>\n",
       "      <th>title</th>\n",
       "      <th>genres</th>\n",
       "    </tr>\n",
       "  </thead>\n",
       "  <tbody>\n",
       "    <tr>\n",
       "      <th>0</th>\n",
       "      <td>1</td>\n",
       "      <td>Toy Story (1995)</td>\n",
       "      <td>Adventure|Animation|Children|Comedy|Fantasy</td>\n",
       "    </tr>\n",
       "    <tr>\n",
       "      <th>1</th>\n",
       "      <td>2</td>\n",
       "      <td>Jumanji (1995)</td>\n",
       "      <td>Adventure|Children|Fantasy</td>\n",
       "    </tr>\n",
       "    <tr>\n",
       "      <th>2</th>\n",
       "      <td>3</td>\n",
       "      <td>Grumpier Old Men (1995)</td>\n",
       "      <td>Comedy|Romance</td>\n",
       "    </tr>\n",
       "    <tr>\n",
       "      <th>3</th>\n",
       "      <td>4</td>\n",
       "      <td>Waiting to Exhale (1995)</td>\n",
       "      <td>Comedy|Drama|Romance</td>\n",
       "    </tr>\n",
       "    <tr>\n",
       "      <th>4</th>\n",
       "      <td>5</td>\n",
       "      <td>Father of the Bride Part II (1995)</td>\n",
       "      <td>Comedy</td>\n",
       "    </tr>\n",
       "    <tr>\n",
       "      <th>...</th>\n",
       "      <td>...</td>\n",
       "      <td>...</td>\n",
       "      <td>...</td>\n",
       "    </tr>\n",
       "    <tr>\n",
       "      <th>27273</th>\n",
       "      <td>131254</td>\n",
       "      <td>Kein Bund für's Leben (2007)</td>\n",
       "      <td>Comedy</td>\n",
       "    </tr>\n",
       "    <tr>\n",
       "      <th>27274</th>\n",
       "      <td>131256</td>\n",
       "      <td>Feuer, Eis &amp; Dosenbier (2002)</td>\n",
       "      <td>Comedy</td>\n",
       "    </tr>\n",
       "    <tr>\n",
       "      <th>27275</th>\n",
       "      <td>131258</td>\n",
       "      <td>The Pirates (2014)</td>\n",
       "      <td>Adventure</td>\n",
       "    </tr>\n",
       "    <tr>\n",
       "      <th>27276</th>\n",
       "      <td>131260</td>\n",
       "      <td>Rentun Ruusu (2001)</td>\n",
       "      <td>(no genres listed)</td>\n",
       "    </tr>\n",
       "    <tr>\n",
       "      <th>27277</th>\n",
       "      <td>131262</td>\n",
       "      <td>Innocence (2014)</td>\n",
       "      <td>Adventure|Fantasy|Horror</td>\n",
       "    </tr>\n",
       "  </tbody>\n",
       "</table>\n",
       "<p>27278 rows × 3 columns</p>\n",
       "</div>"
      ],
      "text/plain": [
       "       movieId                               title  \\\n",
       "0            1                    Toy Story (1995)   \n",
       "1            2                      Jumanji (1995)   \n",
       "2            3             Grumpier Old Men (1995)   \n",
       "3            4            Waiting to Exhale (1995)   \n",
       "4            5  Father of the Bride Part II (1995)   \n",
       "...        ...                                 ...   \n",
       "27273   131254        Kein Bund für's Leben (2007)   \n",
       "27274   131256       Feuer, Eis & Dosenbier (2002)   \n",
       "27275   131258                  The Pirates (2014)   \n",
       "27276   131260                 Rentun Ruusu (2001)   \n",
       "27277   131262                    Innocence (2014)   \n",
       "\n",
       "                                            genres  \n",
       "0      Adventure|Animation|Children|Comedy|Fantasy  \n",
       "1                       Adventure|Children|Fantasy  \n",
       "2                                   Comedy|Romance  \n",
       "3                             Comedy|Drama|Romance  \n",
       "4                                           Comedy  \n",
       "...                                            ...  \n",
       "27273                                       Comedy  \n",
       "27274                                       Comedy  \n",
       "27275                                    Adventure  \n",
       "27276                           (no genres listed)  \n",
       "27277                     Adventure|Fantasy|Horror  \n",
       "\n",
       "[27278 rows x 3 columns]"
      ]
     },
     "execution_count": 12,
     "metadata": {},
     "output_type": "execute_result"
    }
   ],
   "source": [
    "x = movie\n",
    "x"
   ]
  },
  {
   "cell_type": "code",
   "execution_count": 4,
   "id": "ea7340d4",
   "metadata": {},
   "outputs": [
    {
     "data": {
      "text/html": [
       "<div>\n",
       "<style scoped>\n",
       "    .dataframe tbody tr th:only-of-type {\n",
       "        vertical-align: middle;\n",
       "    }\n",
       "\n",
       "    .dataframe tbody tr th {\n",
       "        vertical-align: top;\n",
       "    }\n",
       "\n",
       "    .dataframe thead th {\n",
       "        text-align: right;\n",
       "    }\n",
       "</style>\n",
       "<table border=\"1\" class=\"dataframe\">\n",
       "  <thead>\n",
       "    <tr style=\"text-align: right;\">\n",
       "      <th></th>\n",
       "      <th>userId</th>\n",
       "      <th>movieId</th>\n",
       "      <th>rating</th>\n",
       "      <th>timestamp</th>\n",
       "    </tr>\n",
       "  </thead>\n",
       "  <tbody>\n",
       "    <tr>\n",
       "      <th>0</th>\n",
       "      <td>1</td>\n",
       "      <td>2</td>\n",
       "      <td>3.5</td>\n",
       "      <td>2005-04-02 23:53:47</td>\n",
       "    </tr>\n",
       "    <tr>\n",
       "      <th>1</th>\n",
       "      <td>1</td>\n",
       "      <td>29</td>\n",
       "      <td>3.5</td>\n",
       "      <td>2005-04-02 23:31:16</td>\n",
       "    </tr>\n",
       "    <tr>\n",
       "      <th>2</th>\n",
       "      <td>1</td>\n",
       "      <td>32</td>\n",
       "      <td>3.5</td>\n",
       "      <td>2005-04-02 23:33:39</td>\n",
       "    </tr>\n",
       "    <tr>\n",
       "      <th>3</th>\n",
       "      <td>1</td>\n",
       "      <td>47</td>\n",
       "      <td>3.5</td>\n",
       "      <td>2005-04-02 23:32:07</td>\n",
       "    </tr>\n",
       "    <tr>\n",
       "      <th>4</th>\n",
       "      <td>1</td>\n",
       "      <td>50</td>\n",
       "      <td>3.5</td>\n",
       "      <td>2005-04-02 23:29:40</td>\n",
       "    </tr>\n",
       "    <tr>\n",
       "      <th>...</th>\n",
       "      <td>...</td>\n",
       "      <td>...</td>\n",
       "      <td>...</td>\n",
       "      <td>...</td>\n",
       "    </tr>\n",
       "    <tr>\n",
       "      <th>20000258</th>\n",
       "      <td>138493</td>\n",
       "      <td>68954</td>\n",
       "      <td>4.5</td>\n",
       "      <td>2009-11-13 15:42:00</td>\n",
       "    </tr>\n",
       "    <tr>\n",
       "      <th>20000259</th>\n",
       "      <td>138493</td>\n",
       "      <td>69526</td>\n",
       "      <td>4.5</td>\n",
       "      <td>2009-12-03 18:31:48</td>\n",
       "    </tr>\n",
       "    <tr>\n",
       "      <th>20000260</th>\n",
       "      <td>138493</td>\n",
       "      <td>69644</td>\n",
       "      <td>3.0</td>\n",
       "      <td>2009-12-07 18:10:57</td>\n",
       "    </tr>\n",
       "    <tr>\n",
       "      <th>20000261</th>\n",
       "      <td>138493</td>\n",
       "      <td>70286</td>\n",
       "      <td>5.0</td>\n",
       "      <td>2009-11-13 15:42:24</td>\n",
       "    </tr>\n",
       "    <tr>\n",
       "      <th>20000262</th>\n",
       "      <td>138493</td>\n",
       "      <td>71619</td>\n",
       "      <td>2.5</td>\n",
       "      <td>2009-10-17 20:25:36</td>\n",
       "    </tr>\n",
       "  </tbody>\n",
       "</table>\n",
       "<p>20000263 rows × 4 columns</p>\n",
       "</div>"
      ],
      "text/plain": [
       "          userId  movieId  rating            timestamp\n",
       "0              1        2     3.5  2005-04-02 23:53:47\n",
       "1              1       29     3.5  2005-04-02 23:31:16\n",
       "2              1       32     3.5  2005-04-02 23:33:39\n",
       "3              1       47     3.5  2005-04-02 23:32:07\n",
       "4              1       50     3.5  2005-04-02 23:29:40\n",
       "...          ...      ...     ...                  ...\n",
       "20000258  138493    68954     4.5  2009-11-13 15:42:00\n",
       "20000259  138493    69526     4.5  2009-12-03 18:31:48\n",
       "20000260  138493    69644     3.0  2009-12-07 18:10:57\n",
       "20000261  138493    70286     5.0  2009-11-13 15:42:24\n",
       "20000262  138493    71619     2.5  2009-10-17 20:25:36\n",
       "\n",
       "[20000263 rows x 4 columns]"
      ]
     },
     "execution_count": 4,
     "metadata": {},
     "output_type": "execute_result"
    }
   ],
   "source": [
    "rating = pd.read_csv(\"C:/Users/HP/Downloads/archive/rating.csv\")\n",
    "y = rating\n",
    "y"
   ]
  },
  {
   "cell_type": "code",
   "execution_count": 46,
   "id": "e8081415",
   "metadata": {},
   "outputs": [],
   "source": [
    "train2, val = train_test_split(data, test_size =0.2)"
   ]
  },
  {
   "cell_type": "code",
   "execution_count": 47,
   "id": "5d1aa17e",
   "metadata": {},
   "outputs": [
    {
     "data": {
      "text/plain": [
       "80"
      ]
     },
     "execution_count": 47,
     "metadata": {},
     "output_type": "execute_result"
    }
   ],
   "source": [
    "len(train2)"
   ]
  },
  {
   "cell_type": "code",
   "execution_count": 48,
   "id": "7753d2c1",
   "metadata": {},
   "outputs": [
    {
     "data": {
      "text/plain": [
       "20"
      ]
     },
     "execution_count": 48,
     "metadata": {},
     "output_type": "execute_result"
    }
   ],
   "source": [
    "len(val)"
   ]
  },
  {
   "cell_type": "code",
   "execution_count": 5,
   "id": "2dc2f939",
   "metadata": {},
   "outputs": [],
   "source": [
    "y = rating"
   ]
  },
  {
   "cell_type": "code",
   "execution_count": 19,
   "id": "1905f290",
   "metadata": {},
   "outputs": [
    {
     "ename": "ValueError",
     "evalue": "Found input variables with inconsistent numbers of samples: [27278, 20000263, 10]",
     "output_type": "error",
     "traceback": [
      "\u001b[1;31m---------------------------------------------------------------------------\u001b[0m",
      "\u001b[1;31mValueError\u001b[0m                                Traceback (most recent call last)",
      "Input \u001b[1;32mIn [19]\u001b[0m, in \u001b[0;36m<cell line: 8>\u001b[1;34m()\u001b[0m\n\u001b[0;32m      5\u001b[0m groups \u001b[38;5;241m=\u001b[39m [\u001b[38;5;241m1\u001b[39m, \u001b[38;5;241m1\u001b[39m, \u001b[38;5;241m1\u001b[39m, \u001b[38;5;241m2\u001b[39m, \u001b[38;5;241m2\u001b[39m, \u001b[38;5;241m2\u001b[39m, \u001b[38;5;241m3\u001b[39m, \u001b[38;5;241m3\u001b[39m, \u001b[38;5;241m3\u001b[39m, \u001b[38;5;241m3\u001b[39m]\n\u001b[0;32m      7\u001b[0m gkf \u001b[38;5;241m=\u001b[39m GroupKFold(n_splits\u001b[38;5;241m=\u001b[39m\u001b[38;5;241m3\u001b[39m)\n\u001b[1;32m----> 8\u001b[0m \u001b[38;5;28;01mfor\u001b[39;00m train, test \u001b[38;5;129;01min\u001b[39;00m gkf\u001b[38;5;241m.\u001b[39msplit(x, y, groups\u001b[38;5;241m=\u001b[39mgroups):\n\u001b[0;32m      9\u001b[0m  \u001b[38;5;28mprint\u001b[39m(\u001b[38;5;124m\"\u001b[39m\u001b[38;5;132;01m%s\u001b[39;00m\u001b[38;5;124m \u001b[39m\u001b[38;5;132;01m%s\u001b[39;00m\u001b[38;5;124m\"\u001b[39m \u001b[38;5;241m%\u001b[39m (train, test))\n",
      "File \u001b[1;32m~\\anaconda3\\lib\\site-packages\\sklearn\\model_selection\\_split.py:330\u001b[0m, in \u001b[0;36m_BaseKFold.split\u001b[1;34m(self, X, y, groups)\u001b[0m\n\u001b[0;32m    306\u001b[0m \u001b[38;5;28;01mdef\u001b[39;00m \u001b[38;5;21msplit\u001b[39m(\u001b[38;5;28mself\u001b[39m, X, y\u001b[38;5;241m=\u001b[39m\u001b[38;5;28;01mNone\u001b[39;00m, groups\u001b[38;5;241m=\u001b[39m\u001b[38;5;28;01mNone\u001b[39;00m):\n\u001b[0;32m    307\u001b[0m     \u001b[38;5;124;03m\"\"\"Generate indices to split data into training and test set.\u001b[39;00m\n\u001b[0;32m    308\u001b[0m \n\u001b[0;32m    309\u001b[0m \u001b[38;5;124;03m    Parameters\u001b[39;00m\n\u001b[1;32m   (...)\u001b[0m\n\u001b[0;32m    328\u001b[0m \u001b[38;5;124;03m        The testing set indices for that split.\u001b[39;00m\n\u001b[0;32m    329\u001b[0m \u001b[38;5;124;03m    \"\"\"\u001b[39;00m\n\u001b[1;32m--> 330\u001b[0m     X, y, groups \u001b[38;5;241m=\u001b[39m \u001b[43mindexable\u001b[49m\u001b[43m(\u001b[49m\u001b[43mX\u001b[49m\u001b[43m,\u001b[49m\u001b[43m \u001b[49m\u001b[43my\u001b[49m\u001b[43m,\u001b[49m\u001b[43m \u001b[49m\u001b[43mgroups\u001b[49m\u001b[43m)\u001b[49m\n\u001b[0;32m    331\u001b[0m     n_samples \u001b[38;5;241m=\u001b[39m _num_samples(X)\n\u001b[0;32m    332\u001b[0m     \u001b[38;5;28;01mif\u001b[39;00m \u001b[38;5;28mself\u001b[39m\u001b[38;5;241m.\u001b[39mn_splits \u001b[38;5;241m>\u001b[39m n_samples:\n",
      "File \u001b[1;32m~\\anaconda3\\lib\\site-packages\\sklearn\\utils\\validation.py:378\u001b[0m, in \u001b[0;36mindexable\u001b[1;34m(*iterables)\u001b[0m\n\u001b[0;32m    359\u001b[0m \u001b[38;5;124;03m\"\"\"Make arrays indexable for cross-validation.\u001b[39;00m\n\u001b[0;32m    360\u001b[0m \n\u001b[0;32m    361\u001b[0m \u001b[38;5;124;03mChecks consistent length, passes through None, and ensures that everything\u001b[39;00m\n\u001b[1;32m   (...)\u001b[0m\n\u001b[0;32m    374\u001b[0m \u001b[38;5;124;03m    sparse matrix, or dataframe) or `None`.\u001b[39;00m\n\u001b[0;32m    375\u001b[0m \u001b[38;5;124;03m\"\"\"\u001b[39;00m\n\u001b[0;32m    377\u001b[0m result \u001b[38;5;241m=\u001b[39m [_make_indexable(X) \u001b[38;5;28;01mfor\u001b[39;00m X \u001b[38;5;129;01min\u001b[39;00m iterables]\n\u001b[1;32m--> 378\u001b[0m \u001b[43mcheck_consistent_length\u001b[49m\u001b[43m(\u001b[49m\u001b[38;5;241;43m*\u001b[39;49m\u001b[43mresult\u001b[49m\u001b[43m)\u001b[49m\n\u001b[0;32m    379\u001b[0m \u001b[38;5;28;01mreturn\u001b[39;00m result\n",
      "File \u001b[1;32m~\\anaconda3\\lib\\site-packages\\sklearn\\utils\\validation.py:332\u001b[0m, in \u001b[0;36mcheck_consistent_length\u001b[1;34m(*arrays)\u001b[0m\n\u001b[0;32m    330\u001b[0m uniques \u001b[38;5;241m=\u001b[39m np\u001b[38;5;241m.\u001b[39munique(lengths)\n\u001b[0;32m    331\u001b[0m \u001b[38;5;28;01mif\u001b[39;00m \u001b[38;5;28mlen\u001b[39m(uniques) \u001b[38;5;241m>\u001b[39m \u001b[38;5;241m1\u001b[39m:\n\u001b[1;32m--> 332\u001b[0m     \u001b[38;5;28;01mraise\u001b[39;00m \u001b[38;5;167;01mValueError\u001b[39;00m(\n\u001b[0;32m    333\u001b[0m         \u001b[38;5;124m\"\u001b[39m\u001b[38;5;124mFound input variables with inconsistent numbers of samples: \u001b[39m\u001b[38;5;132;01m%r\u001b[39;00m\u001b[38;5;124m\"\u001b[39m\n\u001b[0;32m    334\u001b[0m         \u001b[38;5;241m%\u001b[39m [\u001b[38;5;28mint\u001b[39m(l) \u001b[38;5;28;01mfor\u001b[39;00m l \u001b[38;5;129;01min\u001b[39;00m lengths]\n\u001b[0;32m    335\u001b[0m     )\n",
      "\u001b[1;31mValueError\u001b[0m: Found input variables with inconsistent numbers of samples: [27278, 20000263, 10]"
     ]
    }
   ],
   "source": [
    "from sklearn.model_selection import GroupKFold\n",
    "\n",
    "x \n",
    "y \n",
    "groups = [1, 1, 1, 2, 2, 2, 3, 3, 3, 3]\n",
    "\n",
    "gkf = GroupKFold(n_splits=3)\n",
    "for train, test in gkf.split(x, y, groups=groups):\n",
    " print(\"%s %s\" % (train, test))"
   ]
  }
 ],
 "metadata": {
  "kernelspec": {
   "display_name": "Python 3 (ipykernel)",
   "language": "python",
   "name": "python3"
  },
  "language_info": {
   "codemirror_mode": {
    "name": "ipython",
    "version": 3
   },
   "file_extension": ".py",
   "mimetype": "text/x-python",
   "name": "python",
   "nbconvert_exporter": "python",
   "pygments_lexer": "ipython3",
   "version": "3.9.12"
  }
 },
 "nbformat": 4,
 "nbformat_minor": 5
}
